{
 "cells": [
  {
   "cell_type": "code",
   "execution_count": 2,
   "metadata": {},
   "outputs": [],
   "source": [
    "import pandas as pd"
   ]
  },
  {
   "cell_type": "code",
   "execution_count": 3,
   "metadata": {},
   "outputs": [],
   "source": [
    "df=pd.read_csv(\"carIn_test.csv\")"
   ]
  },
  {
   "cell_type": "code",
   "execution_count": 4,
   "metadata": {},
   "outputs": [
    {
     "name": "stdout",
     "output_type": "stream",
     "text": [
      "       Id  Age         Job  Marital  Education  Default  Balance  HHInsurance  \\\n",
      "0    4001   25      admin.   single  secondary        0        1            1   \n",
      "1    4002   40  management  married   tertiary        0        0            1   \n",
      "2    4003   44  management   single   tertiary        0    -1313            1   \n",
      "3    4004   27    services   single  secondary        0     6279            1   \n",
      "4    4005   53  technician  married  secondary        0     7984            1   \n",
      "..    ...  ...         ...      ...        ...      ...      ...          ...   \n",
      "995  4996   31      admin.   single  secondary        0      131            1   \n",
      "996  4997   52  management  married   tertiary        0     2635            0   \n",
      "997  4998   46  technician  married   tertiary        0     3009            0   \n",
      "998  4999   60     retired  married  secondary        0     7038            0   \n",
      "999  5000   28  management   single   tertiary        0      957            0   \n",
      "\n",
      "     CarLoan Communication  LastContactDay LastContactMonth  NoOfContacts  \\\n",
      "0          1           NaN              12              may            12   \n",
      "1          1      cellular              24              jul             1   \n",
      "2          1      cellular              15              may            10   \n",
      "3          0      cellular               9              nov             1   \n",
      "4          0      cellular               2              feb             1   \n",
      "..       ...           ...             ...              ...           ...   \n",
      "995        0      cellular              15              jun             1   \n",
      "996        0      cellular               6              sep             1   \n",
      "997        0      cellular               4              aug             2   \n",
      "998        0     telephone               7              oct             4   \n",
      "999        0      cellular              25              may             2   \n",
      "\n",
      "     DaysPassed  PrevAttempts  Outcome CallStart   CallEnd  CarInsurance  \n",
      "0            -1             0      NaN  17:17:42  17:18:06           NaN  \n",
      "1            -1             0      NaN  09:13:44  09:14:37           NaN  \n",
      "2            -1             0      NaN  15:24:07  15:25:51           NaN  \n",
      "3            -1             0      NaN  09:43:44  09:48:01           NaN  \n",
      "4            -1             0      NaN  16:31:51  16:34:22           NaN  \n",
      "..          ...           ...      ...       ...       ...           ...  \n",
      "995          -1             0      NaN  13:54:24  13:56:55           NaN  \n",
      "996         108             8  success  13:13:38  13:18:51           NaN  \n",
      "997          -1             0      NaN  10:23:35  10:24:33           NaN  \n",
      "998          -1             0      NaN  17:01:49  17:04:07           NaN  \n",
      "999          -1             0      NaN  12:15:19  12:30:34           NaN  \n",
      "\n",
      "[1000 rows x 19 columns]\n"
     ]
    }
   ],
   "source": [
    "print(df)"
   ]
  },
  {
   "cell_type": "code",
   "execution_count": 5,
   "metadata": {},
   "outputs": [
    {
     "name": "stdout",
     "output_type": "stream",
     "text": [
      "Index(['Id', 'Age', 'Job', 'Marital', 'Education', 'Default', 'Balance',\n",
      "       'HHInsurance', 'CarLoan', 'Communication', 'LastContactDay',\n",
      "       'LastContactMonth', 'NoOfContacts', 'DaysPassed', 'PrevAttempts',\n",
      "       'Outcome', 'CallStart', 'CallEnd', 'CarInsurance'],\n",
      "      dtype='object')\n"
     ]
    }
   ],
   "source": [
    "print(df.columns)"
   ]
  },
  {
   "cell_type": "code",
   "execution_count": 6,
   "metadata": {},
   "outputs": [
    {
     "name": "stdout",
     "output_type": "stream",
     "text": [
      "Id                    int64\n",
      "Age                   int64\n",
      "Job                  object\n",
      "Marital              object\n",
      "Education            object\n",
      "Default               int64\n",
      "Balance               int64\n",
      "HHInsurance           int64\n",
      "CarLoan               int64\n",
      "Communication        object\n",
      "LastContactDay        int64\n",
      "LastContactMonth     object\n",
      "NoOfContacts          int64\n",
      "DaysPassed            int64\n",
      "PrevAttempts          int64\n",
      "Outcome              object\n",
      "CallStart            object\n",
      "CallEnd              object\n",
      "CarInsurance        float64\n",
      "dtype: object\n"
     ]
    }
   ],
   "source": [
    "print(df.dtypes)"
   ]
  },
  {
   "cell_type": "code",
   "execution_count": 7,
   "metadata": {},
   "outputs": [],
   "source": [
    "df1 = df[['HHInsurance', 'CarLoan']]"
   ]
  },
  {
   "cell_type": "code",
   "execution_count": 8,
   "metadata": {},
   "outputs": [
    {
     "data": {
      "text/html": [
       "<div>\n",
       "<style scoped>\n",
       "    .dataframe tbody tr th:only-of-type {\n",
       "        vertical-align: middle;\n",
       "    }\n",
       "\n",
       "    .dataframe tbody tr th {\n",
       "        vertical-align: top;\n",
       "    }\n",
       "\n",
       "    .dataframe thead th {\n",
       "        text-align: right;\n",
       "    }\n",
       "</style>\n",
       "<table border=\"1\" class=\"dataframe\">\n",
       "  <thead>\n",
       "    <tr style=\"text-align: right;\">\n",
       "      <th></th>\n",
       "      <th>HHInsurance</th>\n",
       "      <th>CarLoan</th>\n",
       "    </tr>\n",
       "  </thead>\n",
       "  <tbody>\n",
       "    <tr>\n",
       "      <th>0</th>\n",
       "      <td>1</td>\n",
       "      <td>1</td>\n",
       "    </tr>\n",
       "    <tr>\n",
       "      <th>1</th>\n",
       "      <td>1</td>\n",
       "      <td>1</td>\n",
       "    </tr>\n",
       "    <tr>\n",
       "      <th>2</th>\n",
       "      <td>1</td>\n",
       "      <td>1</td>\n",
       "    </tr>\n",
       "    <tr>\n",
       "      <th>3</th>\n",
       "      <td>1</td>\n",
       "      <td>0</td>\n",
       "    </tr>\n",
       "    <tr>\n",
       "      <th>4</th>\n",
       "      <td>1</td>\n",
       "      <td>0</td>\n",
       "    </tr>\n",
       "    <tr>\n",
       "      <th>...</th>\n",
       "      <td>...</td>\n",
       "      <td>...</td>\n",
       "    </tr>\n",
       "    <tr>\n",
       "      <th>995</th>\n",
       "      <td>1</td>\n",
       "      <td>0</td>\n",
       "    </tr>\n",
       "    <tr>\n",
       "      <th>996</th>\n",
       "      <td>0</td>\n",
       "      <td>0</td>\n",
       "    </tr>\n",
       "    <tr>\n",
       "      <th>997</th>\n",
       "      <td>0</td>\n",
       "      <td>0</td>\n",
       "    </tr>\n",
       "    <tr>\n",
       "      <th>998</th>\n",
       "      <td>0</td>\n",
       "      <td>0</td>\n",
       "    </tr>\n",
       "    <tr>\n",
       "      <th>999</th>\n",
       "      <td>0</td>\n",
       "      <td>0</td>\n",
       "    </tr>\n",
       "  </tbody>\n",
       "</table>\n",
       "<p>1000 rows × 2 columns</p>\n",
       "</div>"
      ],
      "text/plain": [
       "     HHInsurance  CarLoan\n",
       "0              1        1\n",
       "1              1        1\n",
       "2              1        1\n",
       "3              1        0\n",
       "4              1        0\n",
       "..           ...      ...\n",
       "995            1        0\n",
       "996            0        0\n",
       "997            0        0\n",
       "998            0        0\n",
       "999            0        0\n",
       "\n",
       "[1000 rows x 2 columns]"
      ]
     },
     "execution_count": 8,
     "metadata": {},
     "output_type": "execute_result"
    }
   ],
   "source": [
    "df1"
   ]
  },
  {
   "cell_type": "code",
   "execution_count": 9,
   "metadata": {},
   "outputs": [],
   "source": [
    "from scipy.spatial import distance"
   ]
  },
  {
   "cell_type": "code",
   "execution_count": 10,
   "metadata": {},
   "outputs": [],
   "source": [
    "from scipy.spatial.distance import cityblock"
   ]
  },
  {
   "cell_type": "code",
   "execution_count": 11,
   "metadata": {},
   "outputs": [],
   "source": [
    "manhattandistance=distance.cityblock(df1['HHInsurance'].astype(float),df1['CarLoan'].astype(float))"
   ]
  },
  {
   "cell_type": "code",
   "execution_count": 12,
   "metadata": {},
   "outputs": [
    {
     "data": {
      "text/html": [
       "<div>\n",
       "<style scoped>\n",
       "    .dataframe tbody tr th:only-of-type {\n",
       "        vertical-align: middle;\n",
       "    }\n",
       "\n",
       "    .dataframe tbody tr th {\n",
       "        vertical-align: top;\n",
       "    }\n",
       "\n",
       "    .dataframe thead th {\n",
       "        text-align: right;\n",
       "    }\n",
       "</style>\n",
       "<table border=\"1\" class=\"dataframe\">\n",
       "  <thead>\n",
       "    <tr style=\"text-align: right;\">\n",
       "      <th></th>\n",
       "      <th>HHInsurance</th>\n",
       "      <th>CarLoan</th>\n",
       "    </tr>\n",
       "  </thead>\n",
       "  <tbody>\n",
       "    <tr>\n",
       "      <th>0</th>\n",
       "      <td>1</td>\n",
       "      <td>1</td>\n",
       "    </tr>\n",
       "    <tr>\n",
       "      <th>1</th>\n",
       "      <td>1</td>\n",
       "      <td>1</td>\n",
       "    </tr>\n",
       "    <tr>\n",
       "      <th>2</th>\n",
       "      <td>1</td>\n",
       "      <td>1</td>\n",
       "    </tr>\n",
       "    <tr>\n",
       "      <th>3</th>\n",
       "      <td>1</td>\n",
       "      <td>0</td>\n",
       "    </tr>\n",
       "    <tr>\n",
       "      <th>4</th>\n",
       "      <td>1</td>\n",
       "      <td>0</td>\n",
       "    </tr>\n",
       "    <tr>\n",
       "      <th>...</th>\n",
       "      <td>...</td>\n",
       "      <td>...</td>\n",
       "    </tr>\n",
       "    <tr>\n",
       "      <th>995</th>\n",
       "      <td>1</td>\n",
       "      <td>0</td>\n",
       "    </tr>\n",
       "    <tr>\n",
       "      <th>996</th>\n",
       "      <td>0</td>\n",
       "      <td>0</td>\n",
       "    </tr>\n",
       "    <tr>\n",
       "      <th>997</th>\n",
       "      <td>0</td>\n",
       "      <td>0</td>\n",
       "    </tr>\n",
       "    <tr>\n",
       "      <th>998</th>\n",
       "      <td>0</td>\n",
       "      <td>0</td>\n",
       "    </tr>\n",
       "    <tr>\n",
       "      <th>999</th>\n",
       "      <td>0</td>\n",
       "      <td>0</td>\n",
       "    </tr>\n",
       "  </tbody>\n",
       "</table>\n",
       "<p>1000 rows × 2 columns</p>\n",
       "</div>"
      ],
      "text/plain": [
       "     HHInsurance  CarLoan\n",
       "0              1        1\n",
       "1              1        1\n",
       "2              1        1\n",
       "3              1        0\n",
       "4              1        0\n",
       "..           ...      ...\n",
       "995            1        0\n",
       "996            0        0\n",
       "997            0        0\n",
       "998            0        0\n",
       "999            0        0\n",
       "\n",
       "[1000 rows x 2 columns]"
      ]
     },
     "execution_count": 12,
     "metadata": {},
     "output_type": "execute_result"
    }
   ],
   "source": [
    "df1"
   ]
  },
  {
   "cell_type": "code",
   "execution_count": 13,
   "metadata": {},
   "outputs": [
    {
     "name": "stdout",
     "output_type": "stream",
     "text": [
      "496.0\n"
     ]
    }
   ],
   "source": [
    "print(manhattandistance)"
   ]
  },
  {
   "cell_type": "code",
   "execution_count": 14,
   "metadata": {},
   "outputs": [],
   "source": [
    "from sklearn.metrics.pairwise import cosine_similarity"
   ]
  },
  {
   "cell_type": "code",
   "execution_count": 15,
   "metadata": {},
   "outputs": [],
   "source": [
    "CosineSimilarity = cosine_similarity([df1.HHInsurance],[df1.CarLoan]) "
   ]
  },
  {
   "cell_type": "code",
   "execution_count": 16,
   "metadata": {},
   "outputs": [
    {
     "name": "stdout",
     "output_type": "stream",
     "text": [
      "[[0.27694767]]\n"
     ]
    }
   ],
   "source": [
    "print(CosineSimilarity )"
   ]
  },
  {
   "cell_type": "code",
   "execution_count": 17,
   "metadata": {},
   "outputs": [],
   "source": [
    "df2=pd.read_csv(\"car_sales.csv\")"
   ]
  },
  {
   "cell_type": "code",
   "execution_count": 18,
   "metadata": {},
   "outputs": [
    {
     "name": "stdout",
     "output_type": "stream",
     "text": [
      "   Sales_in_thousands  Resale_value Vehicle_type  Price_in_thousands  \\\n",
      "0              16.919        16.360    Passenger               21.50   \n",
      "1              39.384        19.875    Passenger               28.40   \n",
      "2              14.114        18.225    Passenger                 NaN   \n",
      "3               8.588        29.725    Passenger               42.00   \n",
      "4              20.397        22.255    Passenger               23.99   \n",
      "\n",
      "   Engine_size  Horsepower  Wheelbase  Width  Length  Curb_weight  \\\n",
      "0          1.8       140.0      101.2   67.3   172.4        2.639   \n",
      "1          3.2       225.0      108.1   70.3   192.9        3.517   \n",
      "2          3.2       225.0      106.9   70.6   192.0        3.470   \n",
      "3          3.5       210.0      114.6   71.4   196.6        3.850   \n",
      "4          1.8       150.0      102.6   68.2   178.0        2.998   \n",
      "\n",
      "   Fuel_capacity  Fuel_efficiency  Power_perf_factor  \n",
      "0           13.2             28.0          58.280150  \n",
      "1           17.2             25.0          91.370778  \n",
      "2           17.2             26.0                NaN  \n",
      "3           18.0             22.0          91.389779  \n",
      "4           16.4             27.0          62.777639  \n"
     ]
    }
   ],
   "source": [
    "print(df2.head(5))"
   ]
  },
  {
   "cell_type": "code",
   "execution_count": 19,
   "metadata": {},
   "outputs": [
    {
     "name": "stdout",
     "output_type": "stream",
     "text": [
      "Sales_in_thousands    float64\n",
      "Resale_value          float64\n",
      "Vehicle_type           object\n",
      "Price_in_thousands    float64\n",
      "Engine_size           float64\n",
      "Horsepower            float64\n",
      "Wheelbase             float64\n",
      "Width                 float64\n",
      "Length                float64\n",
      "Curb_weight           float64\n",
      "Fuel_capacity         float64\n",
      "Fuel_efficiency       float64\n",
      "Power_perf_factor     float64\n",
      "dtype: object\n"
     ]
    }
   ],
   "source": [
    "print(df2.dtypes)"
   ]
  },
  {
   "cell_type": "code",
   "execution_count": 20,
   "metadata": {},
   "outputs": [
    {
     "name": "stdout",
     "output_type": "stream",
     "text": [
      "Index(['Sales_in_thousands', 'Resale_value', 'Vehicle_type',\n",
      "       'Price_in_thousands', 'Engine_size', 'Horsepower', 'Wheelbase', 'Width',\n",
      "       'Length', 'Curb_weight', 'Fuel_capacity', 'Fuel_efficiency',\n",
      "       'Power_perf_factor'],\n",
      "      dtype='object')\n"
     ]
    }
   ],
   "source": [
    "print(df2.columns)"
   ]
  },
  {
   "cell_type": "code",
   "execution_count": 21,
   "metadata": {},
   "outputs": [],
   "source": [
    "df2 = df2[['Width', 'Length']]"
   ]
  },
  {
   "cell_type": "code",
   "execution_count": 22,
   "metadata": {},
   "outputs": [
    {
     "data": {
      "text/html": [
       "<div>\n",
       "<style scoped>\n",
       "    .dataframe tbody tr th:only-of-type {\n",
       "        vertical-align: middle;\n",
       "    }\n",
       "\n",
       "    .dataframe tbody tr th {\n",
       "        vertical-align: top;\n",
       "    }\n",
       "\n",
       "    .dataframe thead th {\n",
       "        text-align: right;\n",
       "    }\n",
       "</style>\n",
       "<table border=\"1\" class=\"dataframe\">\n",
       "  <thead>\n",
       "    <tr style=\"text-align: right;\">\n",
       "      <th></th>\n",
       "      <th>Width</th>\n",
       "      <th>Length</th>\n",
       "    </tr>\n",
       "  </thead>\n",
       "  <tbody>\n",
       "    <tr>\n",
       "      <th>0</th>\n",
       "      <td>67.3</td>\n",
       "      <td>172.4</td>\n",
       "    </tr>\n",
       "    <tr>\n",
       "      <th>1</th>\n",
       "      <td>70.3</td>\n",
       "      <td>192.9</td>\n",
       "    </tr>\n",
       "    <tr>\n",
       "      <th>2</th>\n",
       "      <td>70.6</td>\n",
       "      <td>192.0</td>\n",
       "    </tr>\n",
       "    <tr>\n",
       "      <th>3</th>\n",
       "      <td>71.4</td>\n",
       "      <td>196.6</td>\n",
       "    </tr>\n",
       "    <tr>\n",
       "      <th>4</th>\n",
       "      <td>68.2</td>\n",
       "      <td>178.0</td>\n",
       "    </tr>\n",
       "    <tr>\n",
       "      <th>...</th>\n",
       "      <td>...</td>\n",
       "      <td>...</td>\n",
       "    </tr>\n",
       "    <tr>\n",
       "      <th>152</th>\n",
       "      <td>67.6</td>\n",
       "      <td>176.6</td>\n",
       "    </tr>\n",
       "    <tr>\n",
       "      <th>153</th>\n",
       "      <td>69.3</td>\n",
       "      <td>185.9</td>\n",
       "    </tr>\n",
       "    <tr>\n",
       "      <th>154</th>\n",
       "      <td>69.3</td>\n",
       "      <td>186.2</td>\n",
       "    </tr>\n",
       "    <tr>\n",
       "      <th>155</th>\n",
       "      <td>71.5</td>\n",
       "      <td>185.7</td>\n",
       "    </tr>\n",
       "    <tr>\n",
       "      <th>156</th>\n",
       "      <td>72.1</td>\n",
       "      <td>189.8</td>\n",
       "    </tr>\n",
       "  </tbody>\n",
       "</table>\n",
       "<p>157 rows × 2 columns</p>\n",
       "</div>"
      ],
      "text/plain": [
       "     Width  Length\n",
       "0     67.3   172.4\n",
       "1     70.3   192.9\n",
       "2     70.6   192.0\n",
       "3     71.4   196.6\n",
       "4     68.2   178.0\n",
       "..     ...     ...\n",
       "152   67.6   176.6\n",
       "153   69.3   185.9\n",
       "154   69.3   186.2\n",
       "155   71.5   185.7\n",
       "156   72.1   189.8\n",
       "\n",
       "[157 rows x 2 columns]"
      ]
     },
     "execution_count": 22,
     "metadata": {},
     "output_type": "execute_result"
    }
   ],
   "source": [
    "df2"
   ]
  },
  {
   "cell_type": "code",
   "execution_count": 23,
   "metadata": {},
   "outputs": [],
   "source": [
    "import matplotlib.pyplot as plt"
   ]
  },
  {
   "cell_type": "code",
   "execution_count": 24,
   "metadata": {},
   "outputs": [
    {
     "data": {
      "image/png": "[encoded data removed]",
      "text/plain": [
       "<Figure size 432x288 with 1 Axes>"
      ]
     },
     "metadata": {
      "needs_background": "light"
     },
     "output_type": "display_data"
    }
   ],
   "source": [
    "plt.scatter(df2.Width,df2.Length)\n",
    "plt.xlabel(\"Length\")\n",
    "plt.ylabel(\"Width\")\n",
    "plt.show()"
   ]
  },
  {
   "cell_type": "code",
   "execution_count": 25,
   "metadata": {},
   "outputs": [],
   "source": [
    "df3=df2.dropna()"
   ]
  },
  {
   "cell_type": "code",
   "execution_count": 26,
   "metadata": {},
   "outputs": [],
   "source": [
    "import numpy as np"
   ]
  },
  {
   "cell_type": "code",
   "execution_count": 27,
   "metadata": {},
   "outputs": [],
   "source": [
    "def pearson(x,y):\n",
    "    correlation_matrix=np.corrcoef(x,y)\n",
    "    return correlation_matrix[0,1]"
   ]
  },
  {
   "cell_type": "code",
   "execution_count": 28,
   "metadata": {},
   "outputs": [],
   "source": [
    "r=pearson(df3.Length,df3.Width)"
   ]
  },
  {
   "cell_type": "code",
   "execution_count": 29,
   "metadata": {},
   "outputs": [
    {
     "name": "stdout",
     "output_type": "stream",
     "text": [
      "0.710434890228813\n"
     ]
    }
   ],
   "source": [
    "print(r)"
   ]
  },
  {
   "cell_type": "code",
   "execution_count": 35,
   "metadata": {},
   "outputs": [],
   "source": [
    "a=np.cov(df3.Length,df3.Width)"
   ]
  },
  {
   "cell_type": "code",
   "execution_count": 36,
   "metadata": {},
   "outputs": [
    {
     "name": "stdout",
     "output_type": "stream",
     "text": [
      "[[180.41202316  32.93909677]\n",
      " [ 32.93909677  11.91541935]]\n"
     ]
    }
   ],
   "source": [
    "print(a)"
   ]
  },
  {
   "cell_type": "code",
   "execution_count": 37,
   "metadata": {},
   "outputs": [
    {
     "name": "stdout",
     "output_type": "stream",
     "text": [
      "32.939096774193565\n"
     ]
    }
   ],
   "source": [
    "print(a[0,1])"
   ]
  },
  {
   "cell_type": "code",
   "execution_count": 39,
   "metadata": {},
   "outputs": [],
   "source": [
    "#For sparse datasets, We calculate similarity through angles. Here, Cosine similarity 0.27 - means it's not similar.\n",
    "#Both variable have positive relationship.\n",
    "#Both the variables are not very strongly corelated (0.71)."
   ]
  },
  {
   "cell_type": "code",
   "execution_count": null,
   "metadata": {},
   "outputs": [],
   "source": []
  }
 ],
 "metadata": {
  "kernelspec": {
   "display_name": "Python 3",
   "language": "python",
   "name": "python3"
  },
  "language_info": {
   "codemirror_mode": {
    "name": "ipython",
    "version": 3
   },
   "file_extension": ".py",
   "mimetype": "text/x-python",
   "name": "python",
   "nbconvert_exporter": "python",
   "pygments_lexer": "ipython3",
   "version": "3.8.5"
  }
 },
 "nbformat": 4,
 "nbformat_minor": 4
}
